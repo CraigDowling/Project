{
 "cells": [
  {
   "cell_type": "code",
   "execution_count": null,
   "id": "e77f009b-b5b7-4415-8f40-316d6d48f816",
   "metadata": {},
   "outputs": [],
   "source": [
    "#importing pandas package as pd"
   ]
  },
  {
   "cell_type": "code",
   "execution_count": 1,
   "id": "e6033fd3-cd92-42ab-b015-866710732cc0",
   "metadata": {},
   "outputs": [],
   "source": [
    "import pandas as pd"
   ]
  },
  {
   "cell_type": "code",
   "execution_count": null,
   "id": "ff0a8671-be86-4216-8859-01d3baae3d0b",
   "metadata": {},
   "outputs": [],
   "source": [
    "#importing numpy package as np"
   ]
  },
  {
   "cell_type": "code",
   "execution_count": null,
   "id": "66fe7346-68dd-4aaa-93d7-b5186b1c107f",
   "metadata": {},
   "outputs": [],
   "source": [
    "import numpy as np"
   ]
  },
  {
   "cell_type": "code",
   "execution_count": 6,
   "id": "ad0b09a4-fbe0-4f46-bf16-fad2f2787daa",
   "metadata": {},
   "outputs": [
    {
     "ename": "SyntaxError",
     "evalue": "(unicode error) 'unicodeescape' codec can't decode bytes in position 2-3: truncated \\UXXXXXXXX escape (Temp/ipykernel_15160/2490594324.py, line 1)",
     "output_type": "error",
     "traceback": [
      "\u001b[1;36m  File \u001b[1;32m\"C:\\Users\\CRAIGD~1\\AppData\\Local\\Temp/ipykernel_15160/2490594324.py\"\u001b[1;36m, line \u001b[1;32m1\u001b[0m\n\u001b[1;33m    file = \"C:\\Users\\Craig Dowling\\OneDrive\\Documents\\UCD Professional Academy\\Project\\archive.zip\\2015.csv\"\u001b[0m\n\u001b[1;37m                                                                                                            ^\u001b[0m\n\u001b[1;31mSyntaxError\u001b[0m\u001b[1;31m:\u001b[0m (unicode error) 'unicodeescape' codec can't decode bytes in position 2-3: truncated \\UXXXXXXXX escape\n"
     ]
    }
   ],
   "source": [
    "file = \"C:\\Users\\Craig Dowling\\OneDrive\\Documents\\UCD Professional Academy\\Project\\archive.zip\\2015.csv\"\n",
    "data = pd.read_csv(file)\n",
    "dataframe = pd.DataFrame(data)\n",
    "print(dataframe.head())"
   ]
  },
  {
   "cell_type": "code",
   "execution_count": null,
   "id": "2bec9603-9478-4ea3-acc8-84d652fa6501",
   "metadata": {},
   "outputs": [],
   "source": []
  },
  {
   "cell_type": "code",
   "execution_count": null,
   "id": "c15a4fc4-b6bc-4ae0-8fcd-22b82902b935",
   "metadata": {},
   "outputs": [],
   "source": []
  },
  {
   "cell_type": "code",
   "execution_count": null,
   "id": "4bbdb285-a8b9-4b3e-bdf5-bc0cda2cb0af",
   "metadata": {},
   "outputs": [],
   "source": []
  }
 ],
 "metadata": {
  "kernelspec": {
   "display_name": "Python 3 (ipykernel)",
   "language": "python",
   "name": "python3"
  },
  "language_info": {
   "codemirror_mode": {
    "name": "ipython",
    "version": 3
   },
   "file_extension": ".py",
   "mimetype": "text/x-python",
   "name": "python",
   "nbconvert_exporter": "python",
   "pygments_lexer": "ipython3",
   "version": "3.9.7"
  }
 },
 "nbformat": 4,
 "nbformat_minor": 5
}
